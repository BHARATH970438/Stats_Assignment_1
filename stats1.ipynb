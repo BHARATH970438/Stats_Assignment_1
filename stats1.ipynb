{
 "cells": [
  {
   "cell_type": "markdown",
   "metadata": {},
   "source": [
    "#### Q1. What is Statistics?"
   ]
  },
  {
   "cell_type": "markdown",
   "metadata": {},
   "source": [
    "Statistics is a branch of mathematics and a field of study that deals with the collection, analysis, interpretation, presentation, and organization of data. It involves the use of quantitative methods to gather, summarize, and draw conclusions from numerical data. Statistics plays a crucial role in various disciplines like business, medical feild, etc.\n",
    "- The main objectives of statistics are to :\n",
    "1. Describe data.\n",
    "2. Draw inferences.\n",
    "3. Test hypotheses.\n",
    "4. Model relationships.\n",
    "5. Make predictions."
   ]
  },
  {
   "cell_type": "markdown",
   "metadata": {},
   "source": [
    "#### Q2. Define the different types of statistics and give an example of when each type might be used."
   ]
  },
  {
   "cell_type": "markdown",
   "metadata": {},
   "source": [
    "Statistics can be broadly classified into two main types: descriptive statistics and inferential statistics.\n",
    "1. Descriptive Statistics:\n",
    "Descriptive statistics involves organizing, summarizing, and presenting data in a meaningful way to describe and understand its main features. Here are some common types of descriptive statistics and their examples:\n",
    "- Measures of Central Tendency: These statistics help describe the center or average of a dataset. Examples include the mean, median, and mode. For instance, the mean income of a group of individuals can be calculated to understand their average earnings.\n",
    "\n",
    "- Measures of Dispersion: These statistics provide information about the spread or variability of the data. Examples include the range, variance, and standard deviation. For example, the standard deviation of test scores in a class can indicate how much the scores vary from the average.\n",
    "\n",
    "- Frequency Distributions: Frequency distributions organize data into groups or intervals and display the number of observations within each group. This can be useful for categorical or discrete data. For instance, a frequency distribution can show the number of students falling into different grade ranges in a class.\n",
    "2. Inferential Statistics:\n",
    "Inferential statistics involves drawing conclusions and making predictions about a larger population based on a sample of data. It uses probability theory to estimate parameters and test hypotheses. Here are a few types of inferential statistics and their examples:\n",
    "- Confidence Intervals: Confidence intervals provide a range of values within which a population parameter is estimated to lie with a certain level of confidence. For example, a 95% confidence interval for the average height of a population can be calculated based on a sample.\n",
    "\n",
    "- Hypothesis Testing: Hypothesis testing involves making decisions about a population based on sample data. Researchers often use hypothesis tests to determine if there is a significant difference between groups or if an observed effect is statistically significant. For instance, a hypothesis test can be conducted to determine if a new drug is more effective than a placebo.\n",
    "\n",
    "- Regression Analysis: Regression analysis examines the relationship between variables and helps predict future outcomes. For example, a regression analysis can be performed to understand how changes in advertising expenditure affect sales revenue.\n"
   ]
  },
  {
   "cell_type": "markdown",
   "metadata": {},
   "source": [
    "#### Q3. What are the different types of data and how do they differ from each other? Provide an example of each type of data."
   ]
  },
  {
   "cell_type": "markdown",
   "metadata": {},
   "source": [
    "Data can be classified into two main types: quantitative data and qualitative data. These types of data differ in their nature, measurement, and the kinds of analyses that can be performed on them.\n",
    "1. Quantitative Data:\n",
    "Quantitative data refers to numerical information that can be measured and expressed in terms of quantities or numbers. It deals with objective observations and can be further categorized into two subtypes:\n",
    "- Discrete Data: Discrete data consists of whole numbers or values that are counted and have gaps between them. Examples include the number of cars in a parking lot, the number of children in a family, or the number of students in a classroom.\n",
    "\n",
    "- Continuous Data: Continuous data represents measurements that can take any value within a range or interval. These values can be fractions or decimals and are typically obtained through a measurement process. Examples include height, weight, temperature, or time.\n",
    "2. Qualitative Data:\n",
    "Qualitative data refers to non-numerical information that is categorical or descriptive in nature. It deals with subjective observations and can be further categorized into two subtypes:\n",
    "- Nominal Data: Nominal data consists of categories or labels that cannot be ordered or ranked. Each category represents a distinct attribute or characteristic. Examples include gender (male/female), eye color (blue/green/brown), or car models (Toyota/Honda/Ford).\n",
    "\n",
    "- Ordinal Data: Ordinal data represents categories with a natural order or ranking. The categories have relative differences, but the exact magnitudes between them may not be known or meaningful. Examples include educational levels (elementary/middle/high school), Likert scale ratings (good/bad/verygood)."
   ]
  },
  {
   "cell_type": "markdown",
   "metadata": {},
   "source": [
    "#### Q4. Categorise the following datasets with respect to quantitative and qualitative data types:\n",
    "1. Grading in exam: A+, A, B+, B, C+, C, D, E\n",
    "2. Colour of mangoes: yellow, green, orange, red\n",
    "3. Height data of a class: [178.9, 179, 179.5, 176, 177.2, 178.3, 175.8,...]\n",
    "4. Number of mangoes exported by a farm: [500, 600, 478, 672, ...]"
   ]
  },
  {
   "cell_type": "markdown",
   "metadata": {},
   "source": [
    "1. Qualitative datatype.\n",
    "2. Qualitative datatype.\n",
    "3. Quantative datatype.\n",
    "4. Quantative datatype."
   ]
  },
  {
   "cell_type": "markdown",
   "metadata": {},
   "source": [
    "#### Q5. Explain the concept of levels of measurement and give an example of a variable for each level."
   ]
  },
  {
   "cell_type": "markdown",
   "metadata": {},
   "source": [
    "Levels of measurement, also known as scales of measurement, refer to the different ways in which variables can be measured or classified. There are four commonly recognized levels of measurement: nominal, ordinal, interval, and ratio. Each level has distinct characteristics that determine the types of statistical analyses that can be applied to the data.\n",
    "1. Nominal Level:\n",
    "At the nominal level, variables are categories or labels with no inherent order or numerical significance. They are simply used to classify or group data. Examples of nominal variables include:\n",
    "- Eye color (blue, green, brown)\n",
    "- Country of residence (USA, Canada, Australia)\n",
    "- Marital status (single, married, divorced)\n",
    "2. Ordinal Level:\n",
    "The ordinal level of measurement allows for ranking or ordering of variables, but the differences between categories may not be uniformly meaningful or precisely quantifiable. Examples of ordinal variables include:\n",
    "- Education level (elementary, middle, high school, college)\n",
    "- Satisfaction rating (very satisfied, satisfied, neutral, dissatisfied, very dissatisfied)\n",
    "- Rank in a competition (1st place, 2nd place, 3rd place)\n",
    "3. Interval Level:\n",
    "At the interval level, variables have meaningful numerical values, and the differences between values are meaningful and consistent. However, there is no true zero point, and ratios between values cannot be calculated. Examples of interval variables include:\n",
    "- Temperature measured in Celsius or Fahrenheit (0°C, 10°C, 20°C)\n",
    "- Dates on the calendar (January 1, February 15, March 30)\n",
    "- IQ scores (100, 110, 120)\n",
    "4. Ratio Level:\n",
    "The ratio level of measurement possesses all the characteristics of the interval level but also has a meaningful zero point. Ratios between values can be calculated, and operations like multiplication and division are meaningful. Examples of ratio variables include:\n",
    "- Height (measured in centimeters or inches)\n",
    "- Weight (measured in kilograms or pounds)\n",
    "- Income (measured in dollars)\n"
   ]
  },
  {
   "cell_type": "markdown",
   "metadata": {},
   "source": [
    "#### Q6. Why is it important to understand the level of measurement when analyzing data? Provide an example to illustrate your answer."
   ]
  },
  {
   "cell_type": "markdown",
   "metadata": {},
   "source": [
    "It's important to note that the level of measurement determines the types of statistical analyses that can be applied. For example, nominal variables are typically analyzed using frequency counts and percentages, while ratio variables can be analyzed using a wide range of statistical techniques, including means, standard deviations, and correlation coefficients.\n"
   ]
  },
  {
   "cell_type": "markdown",
   "metadata": {},
   "source": [
    "#### Q7. How nominal data type is different from ordinal data type."
   ]
  },
  {
   "cell_type": "markdown",
   "metadata": {},
   "source": [
    "- Nominal datatype:\n",
    "1. Qualitative/ Categorical variable.\n",
    "2. Order doesn't matters.\n",
    "3. Example : Colors, Blood group, Gender, etc.\n",
    "- Ordinal datatype:\n",
    "1. Ranking and order matters.\n",
    "2. Difference cannot be measured.\n",
    "3. Examples: Grades(A+,A,B+,B,c+,C)"
   ]
  },
  {
   "cell_type": "markdown",
   "metadata": {},
   "source": [
    "#### Q8. Which type of plot can be used to display data in terms of range?"
   ]
  },
  {
   "cell_type": "markdown",
   "metadata": {},
   "source": [
    "Distribution type is used to plot can be used to display in terms of range.\n",
    "- Distribution type plots :\n",
    "1. Histogram(hist).\n",
    "2. Kernal Density Estimation(kde).\n",
    "3. Empirical Cummulative Distribution(ecdf)."
   ]
  },
  {
   "cell_type": "markdown",
   "metadata": {},
   "source": [
    "#### Q9. Describe the difference between descriptive and inferential statistics. Give an example of each type of statistics and explain how they are used."
   ]
  },
  {
   "cell_type": "markdown",
   "metadata": {},
   "source": [
    "- Descriptive Statistics:\n",
    "Descriptive statistics involves summarizing, organizing, and presenting data in a meaningful and concise manner to describe its main features. It focuses on analyzing the data at hand without making inferences or generalizations to a larger population. Descriptive statistics provide a snapshot of the data and help to understand its characteristics. Common descriptive statistical measures include measures of central tendency (mean, median, mode), measures of dispersion (range, variance, standard deviation), and graphical representations (histograms, bar charts).\n",
    "> Example: Let's consider a survey conducted to gather information about the ages of employees in a company. Descriptive statistics can be used to calculate the average age (mean), identify the most frequent age group (mode), and measure the spread of ages (standard deviation). These statistics provide a summary of the age distribution within the company, giving a clear picture of the employees' age demographics."
   ]
  },
  {
   "cell_type": "markdown",
   "metadata": {},
   "source": [
    "- Inferential Statistics:\n",
    "Inferential statistics involves drawing conclusions, making predictions, and generalizing findings from a sample to a larger population. It utilizes probability theory and sampling techniques to make inferences and test hypotheses. Inferential statistics allow researchers to make claims or decisions based on the observed sample data and quantify the degree of uncertainty associated with those claims.\n",
    "> Example: Suppose a pharmaceutical company develops a new drug and wants to test its effectiveness. They conduct a randomized controlled trial, where one group of patients receives the new drug, and another group receives a placebo. Inferential statistics can be employed to analyze the data and determine if there is a statistically significant difference in the outcomes between the two groups. By using inferential statistics such as hypothesis testing, the researchers can make conclusions about the effectiveness of the drug in the larger population."
   ]
  },
  {
   "cell_type": "markdown",
   "metadata": {},
   "source": [
    "#### Q10. What are some common measures of central tendency and variability used in statistics? Explain how each measure can be used to describe a dataset."
   ]
  },
  {
   "cell_type": "markdown",
   "metadata": {},
   "source": [
    "In statistics, measures of central tendency and measures of variability are commonly used to summarize and describe datasets. These measures provide insights into the typical or central values of the data and the extent of variability or spread around those central values. Let's discuss some common measures of central tendency and variability:\n",
    "\n",
    "- Measures of Central Tendency:\n",
    "\n",
    "1. Mean: The mean is the arithmetic average of a set of values. It is calculated by summing all the values in the dataset and dividing by the total number of observations. The mean provides a measure of the \"typical\" value in the dataset.\n",
    "\n",
    "2. Median: The median is the middle value in an ordered dataset. It divides the dataset into two equal halves. If the dataset has an odd number of observations, the median is the middle value. If it has an even number of observations, the median is the average of the two middle values. The median is less sensitive to extreme values than the mean and provides a measure of the central tendency.\n",
    "\n",
    "3. Mode: The mode is the value or values that occur most frequently in a dataset. It represents the most common observation(s) in the dataset. The mode is useful for categorical or discrete data where it helps identify the most prevalent category.\n",
    "\n",
    "- Measures of Variability:\n",
    "\n",
    "1. Range: The range is the difference between the maximum and minimum values in a dataset. It provides a simple measure of the spread of data but is influenced by extreme values.\n",
    "\n",
    "2. Variance: Variance measures the average squared deviation of each value from the mean. It quantifies the spread of data by considering the differences between each data point and the mean. A higher variance indicates greater variability in the dataset.\n",
    "\n",
    "3. Standard Deviation: The standard deviation is the square root of the variance. It provides a measure of the average distance between each data point and the mean. A smaller standard deviation indicates less variability and a tighter cluster of data around the mean."
   ]
  }
 ],
 "metadata": {
  "kernelspec": {
   "display_name": "Python 3",
   "language": "python",
   "name": "python3"
  },
  "language_info": {
   "codemirror_mode": {
    "name": "ipython",
    "version": 3
   },
   "file_extension": ".py",
   "mimetype": "text/x-python",
   "name": "python",
   "nbconvert_exporter": "python",
   "pygments_lexer": "ipython3",
   "version": "3.11.4"
  },
  "orig_nbformat": 4
 },
 "nbformat": 4,
 "nbformat_minor": 2
}
